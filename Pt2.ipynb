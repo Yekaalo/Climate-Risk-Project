{
 "cells": [
  {
   "cell_type": "code",
   "execution_count": 1,
   "id": "b0b72f00",
   "metadata": {},
   "outputs": [
    {
     "name": "stderr",
     "output_type": "stream",
     "text": [
      "C:\\Users\\yekaa\\anaconda3.0\\lib\\site-packages\\dask\\dataframe\\utils.py:369: FutureWarning: pandas.Int64Index is deprecated and will be removed from pandas in a future version. Use pandas.Index with the appropriate dtype instead.\n",
      "  _numeric_index_types = (pd.Int64Index, pd.Float64Index, pd.UInt64Index)\n",
      "C:\\Users\\yekaa\\anaconda3.0\\lib\\site-packages\\dask\\dataframe\\utils.py:369: FutureWarning: pandas.Float64Index is deprecated and will be removed from pandas in a future version. Use pandas.Index with the appropriate dtype instead.\n",
      "  _numeric_index_types = (pd.Int64Index, pd.Float64Index, pd.UInt64Index)\n",
      "C:\\Users\\yekaa\\anaconda3.0\\lib\\site-packages\\dask\\dataframe\\utils.py:369: FutureWarning: pandas.UInt64Index is deprecated and will be removed from pandas in a future version. Use pandas.Index with the appropriate dtype instead.\n",
      "  _numeric_index_types = (pd.Int64Index, pd.Float64Index, pd.UInt64Index)\n"
     ]
    }
   ],
   "source": [
    "import matplotlib.pyplot as plt\n",
    "import pandas as pd\n",
    "import numpy as np\n",
    "import seaborn as sns\n",
    "import time\n",
    "from dask import dataframe as df1\n",
    "import warnings\n",
    "import os\n",
    "\n",
    "os.getcwd()\n",
    "os.chdir(r\"C:\\Users\\yekaa\\Downloads\")"
   ]
  },
  {
   "cell_type": "code",
   "execution_count": 2,
   "id": "117a74cd",
   "metadata": {},
   "outputs": [],
   "source": [
    "f = pd.read_csv(\"my_data.csv\")"
   ]
  },
  {
   "cell_type": "code",
   "execution_count": 3,
   "id": "0f690823",
   "metadata": {},
   "outputs": [
    {
     "data": {
      "text/plain": [
       "(1995022, 93)"
      ]
     },
     "execution_count": 3,
     "metadata": {},
     "output_type": "execute_result"
    }
   ],
   "source": [
    "f.head()\n",
    "f.shape"
   ]
  },
  {
   "cell_type": "code",
   "execution_count": 4,
   "id": "7137bd92",
   "metadata": {},
   "outputs": [],
   "source": [
    "X = f.drop(['Pred_Default','census_tract','agg_class','Ethnicity', 'countyname'], axis=1)\n",
    "y = f['Pred_Default']\n",
    "\n",
    "from sklearn.model_selection import train_test_split\n",
    "X_train, X_test, y_train, y_test = train_test_split(X, y, test_size = 0.3, random_state = 0)"
   ]
  },
  {
   "cell_type": "code",
   "execution_count": 5,
   "id": "08b1db86",
   "metadata": {},
   "outputs": [],
   "source": [
    "X_t = X_train"
   ]
  },
  {
   "cell_type": "code",
   "execution_count": 6,
   "id": "8755bb47",
   "metadata": {},
   "outputs": [],
   "source": [
    "### Upsample Minority Class Using resample\n",
    "\n",
    "## Imbalance Sampling\n",
    "# concatenate our training data back together\n",
    "X = pd.concat([X_train, y_train], axis=1)\n",
    "X.head()\n",
    "\n",
    "from sklearn.utils import resample\n",
    "# separate minority and majority classes\n",
    "not_def = X[X['Pred_Default']==0]\n",
    "defa = X[X['Pred_Default']==1]\n",
    "\n",
    "# upsample minority\n",
    "fraud_upsampled = resample(defa,\n",
    "                          replace=True, # sample with replacement\n",
    "                          n_samples=len(not_def), # match number in majority class\n",
    "                          random_state=27) # reproducible results\n",
    "\n",
    "# combine majority and upsampled minority\n",
    "upsampled = pd.concat([not_def, fraud_upsampled])\n",
    "\n",
    "# check new class counts\n",
    "upsampled['Pred_Default'].value_counts()\n",
    "\n",
    "# trying logistic regression again with the balanced dataset\n",
    "y_train = upsampled['Pred_Default']\n",
    "X_train = upsampled.drop('Pred_Default', axis=1)\n",
    "\n",
    "np.unique(y_test, return_counts=True)\n",
    "\n",
    "from sklearn.preprocessing import StandardScaler\n",
    "\n",
    "scaler = StandardScaler()\n",
    "\n",
    "X_train = scaler.fit_transform(X_train)\n",
    "X_test = scaler.transform(X_test)"
   ]
  },
  {
   "cell_type": "code",
   "execution_count": 7,
   "id": "36340caa",
   "metadata": {},
   "outputs": [
    {
     "name": "stdout",
     "output_type": "stream",
     "text": [
      "(2783326, 88)\n",
      "(598507, 88)\n",
      "(2783326,)\n",
      "(598507,)\n"
     ]
    }
   ],
   "source": [
    "print(X_train.shape)\n",
    "print(X_test.shape)\n",
    "print(y_train.shape)\n",
    "print(y_test.shape)"
   ]
  },
  {
   "cell_type": "code",
   "execution_count": 8,
   "id": "a6408426",
   "metadata": {},
   "outputs": [
    {
     "data": {
      "text/plain": [
       "RandomForestClassifier(max_depth=18, max_features='sqrt', n_estimators=200)"
      ]
     },
     "execution_count": 8,
     "metadata": {},
     "output_type": "execute_result"
    }
   ],
   "source": [
    "#train random forest\n",
    "from sklearn.ensemble import RandomForestClassifier\n",
    "rf = RandomForestClassifier(max_depth= 18, max_features= 'sqrt', n_estimators= 200)\n",
    "rf.fit(X_train, y_train)"
   ]
  },
  {
   "cell_type": "code",
   "execution_count": 9,
   "id": "44361658",
   "metadata": {},
   "outputs": [
    {
     "name": "stdout",
     "output_type": "stream",
     "text": [
      "Train Accuracy Score 0.9975791552983733\n",
      "Test Accuracy Score 0.9944812675540972\n"
     ]
    }
   ],
   "source": [
    "train_score_rf = rf.score(X_train, y_train)\n",
    "test_score_rf = rf.score(X_test, y_test)\n",
    "print('Train Accuracy Score', train_score_rf)\n",
    "print('Test Accuracy Score', test_score_rf)"
   ]
  },
  {
   "cell_type": "code",
   "execution_count": 10,
   "id": "a114d469",
   "metadata": {},
   "outputs": [
    {
     "data": {
      "text/html": [
       "<div>\n",
       "<style scoped>\n",
       "    .dataframe tbody tr th:only-of-type {\n",
       "        vertical-align: middle;\n",
       "    }\n",
       "\n",
       "    .dataframe tbody tr th {\n",
       "        vertical-align: top;\n",
       "    }\n",
       "\n",
       "    .dataframe thead th {\n",
       "        text-align: right;\n",
       "    }\n",
       "</style>\n",
       "<table border=\"1\" class=\"dataframe\">\n",
       "  <thead>\n",
       "    <tr style=\"text-align: right;\">\n",
       "      <th></th>\n",
       "      <th>0</th>\n",
       "      <th>1</th>\n",
       "    </tr>\n",
       "  </thead>\n",
       "  <tbody>\n",
       "    <tr>\n",
       "      <th>0</th>\n",
       "      <td>0.999985</td>\n",
       "      <td>0.000015</td>\n",
       "    </tr>\n",
       "    <tr>\n",
       "      <th>1</th>\n",
       "      <td>1.000000</td>\n",
       "      <td>0.000000</td>\n",
       "    </tr>\n",
       "    <tr>\n",
       "      <th>2</th>\n",
       "      <td>0.999862</td>\n",
       "      <td>0.000138</td>\n",
       "    </tr>\n",
       "    <tr>\n",
       "      <th>3</th>\n",
       "      <td>0.998616</td>\n",
       "      <td>0.001384</td>\n",
       "    </tr>\n",
       "    <tr>\n",
       "      <th>4</th>\n",
       "      <td>0.990327</td>\n",
       "      <td>0.009673</td>\n",
       "    </tr>\n",
       "  </tbody>\n",
       "</table>\n",
       "</div>"
      ],
      "text/plain": [
       "          0         1\n",
       "0  0.999985  0.000015\n",
       "1  1.000000  0.000000\n",
       "2  0.999862  0.000138\n",
       "3  0.998616  0.001384\n",
       "4  0.990327  0.009673"
      ]
     },
     "execution_count": 10,
     "metadata": {},
     "output_type": "execute_result"
    }
   ],
   "source": [
    "prob_rf = rf.predict_proba(X_test)\n",
    "df_prob_rf = pd.DataFrame(prob_rf)\n",
    "df_prob_rf.head()"
   ]
  },
  {
   "cell_type": "code",
   "execution_count": 11,
   "id": "b3dbb1d4",
   "metadata": {},
   "outputs": [
    {
     "data": {
      "text/html": [
       "<div>\n",
       "<style scoped>\n",
       "    .dataframe tbody tr th:only-of-type {\n",
       "        vertical-align: middle;\n",
       "    }\n",
       "\n",
       "    .dataframe tbody tr th {\n",
       "        vertical-align: top;\n",
       "    }\n",
       "\n",
       "    .dataframe thead th {\n",
       "        text-align: right;\n",
       "    }\n",
       "</style>\n",
       "<table border=\"1\" class=\"dataframe\">\n",
       "  <thead>\n",
       "    <tr style=\"text-align: right;\">\n",
       "      <th></th>\n",
       "      <th>0</th>\n",
       "    </tr>\n",
       "  </thead>\n",
       "  <tbody>\n",
       "    <tr>\n",
       "      <th>0</th>\n",
       "      <td>0</td>\n",
       "    </tr>\n",
       "    <tr>\n",
       "      <th>1</th>\n",
       "      <td>0</td>\n",
       "    </tr>\n",
       "    <tr>\n",
       "      <th>2</th>\n",
       "      <td>0</td>\n",
       "    </tr>\n",
       "    <tr>\n",
       "      <th>3</th>\n",
       "      <td>0</td>\n",
       "    </tr>\n",
       "    <tr>\n",
       "      <th>4</th>\n",
       "      <td>0</td>\n",
       "    </tr>\n",
       "  </tbody>\n",
       "</table>\n",
       "</div>"
      ],
      "text/plain": [
       "   0\n",
       "0  0\n",
       "1  0\n",
       "2  0\n",
       "3  0\n",
       "4  0"
      ]
     },
     "execution_count": 11,
     "metadata": {},
     "output_type": "execute_result"
    }
   ],
   "source": [
    "pred_rf = rf.predict(X_test)\n",
    "df_pred_rf = pd.DataFrame(pred_rf)\n",
    "df_pred_rf.head()"
   ]
  },
  {
   "cell_type": "code",
   "execution_count": 12,
   "id": "fa89c60e",
   "metadata": {},
   "outputs": [
    {
     "data": {
      "text/plain": [
       "<AxesSubplot:>"
      ]
     },
     "execution_count": 12,
     "metadata": {},
     "output_type": "execute_result"
    },
    {
     "data": {
      "image/png": "[encoded data removed]",
      "text/plain": [
       "<Figure size 432x288 with 2 Axes>"
      ]
     },
     "metadata": {
      "needs_background": "light"
     },
     "output_type": "display_data"
    }
   ],
   "source": [
    "from sklearn.metrics import confusion_matrix\n",
    "import seaborn as sns\n",
    "cf_matrix_rf = confusion_matrix(y_test, pred_rf)\n",
    "sns.heatmap(cf_matrix_rf,annot=True)"
   ]
  },
  {
   "cell_type": "code",
   "execution_count": 13,
   "id": "56d02612",
   "metadata": {},
   "outputs": [
    {
     "name": "stdout",
     "output_type": "stream",
     "text": [
      "              precision    recall  f1-score   support\n",
      "\n",
      "           0       1.00      0.99      1.00    596356\n",
      "           1       0.39      0.91      0.54      2151\n",
      "\n",
      "    accuracy                           0.99    598507\n",
      "   macro avg       0.69      0.95      0.77    598507\n",
      "weighted avg       1.00      0.99      1.00    598507\n",
      "\n"
     ]
    }
   ],
   "source": [
    "from sklearn.metrics import classification_report\n",
    "print(classification_report(y_test, pred_rf))"
   ]
  },
  {
   "cell_type": "code",
   "execution_count": 14,
   "id": "bc6cd3e8",
   "metadata": {},
   "outputs": [
    {
     "data": {
      "image/png": "[encoded data removed]",
      "text/plain": [
       "<Figure size 432x288 with 1 Axes>"
      ]
     },
     "metadata": {
      "needs_background": "light"
     },
     "output_type": "display_data"
    }
   ],
   "source": [
    "from sklearn.metrics import roc_auc_score\n",
    "from sklearn.metrics import roc_curve\n",
    "logit_roc_auc = roc_auc_score(y_test, prob_rf[:,1])\n",
    "fpr, tpr, thresholds = roc_curve(y_test, prob_rf[:,1])\n",
    "plt.figure()\n",
    "plt.plot(fpr, tpr, label='Logistic Regression (area = %0.2f)' % logit_roc_auc)\n",
    "plt.plot([0, 1], [0, 1],'r--')\n",
    "plt.xlim([0.0, 1.0])\n",
    "plt.ylim([0.0, 1.05])\n",
    "plt.xlabel('False Positive Rate')\n",
    "plt.ylabel('True Positive Rate')\n",
    "plt.title('Receiver operating characteristic')\n",
    "plt.legend(loc=\"lower right\")\n",
    "plt.savefig('Log_ROC')\n",
    "plt.show()"
   ]
  },
  {
   "cell_type": "code",
   "execution_count": 15,
   "id": "29402419",
   "metadata": {},
   "outputs": [
    {
     "data": {
      "text/html": [
       "<div>\n",
       "<style scoped>\n",
       "    .dataframe tbody tr th:only-of-type {\n",
       "        vertical-align: middle;\n",
       "    }\n",
       "\n",
       "    .dataframe tbody tr th {\n",
       "        vertical-align: top;\n",
       "    }\n",
       "\n",
       "    .dataframe thead th {\n",
       "        text-align: right;\n",
       "    }\n",
       "</style>\n",
       "<table border=\"1\" class=\"dataframe\">\n",
       "  <thead>\n",
       "    <tr style=\"text-align: right;\">\n",
       "      <th></th>\n",
       "      <th>index</th>\n",
       "      <th>feature</th>\n",
       "      <th>importance</th>\n",
       "    </tr>\n",
       "  </thead>\n",
       "  <tbody>\n",
       "    <tr>\n",
       "      <th>0</th>\n",
       "      <td>4</td>\n",
       "      <td>interest_rate</td>\n",
       "      <td>0.350245</td>\n",
       "    </tr>\n",
       "    <tr>\n",
       "      <th>1</th>\n",
       "      <td>2</td>\n",
       "      <td>loan_to_value_ratio</td>\n",
       "      <td>0.102818</td>\n",
       "    </tr>\n",
       "    <tr>\n",
       "      <th>2</th>\n",
       "      <td>3</td>\n",
       "      <td>debt_to_income_ratio</td>\n",
       "      <td>0.084491</td>\n",
       "    </tr>\n",
       "    <tr>\n",
       "      <th>3</th>\n",
       "      <td>57</td>\n",
       "      <td>loan_purpose_32</td>\n",
       "      <td>0.063476</td>\n",
       "    </tr>\n",
       "    <tr>\n",
       "      <th>4</th>\n",
       "      <td>8</td>\n",
       "      <td>property_value</td>\n",
       "      <td>0.045398</td>\n",
       "    </tr>\n",
       "    <tr>\n",
       "      <th>5</th>\n",
       "      <td>1</td>\n",
       "      <td>loan_amount</td>\n",
       "      <td>0.031217</td>\n",
       "    </tr>\n",
       "    <tr>\n",
       "      <th>6</th>\n",
       "      <td>55</td>\n",
       "      <td>loan_purpose_1</td>\n",
       "      <td>0.027041</td>\n",
       "    </tr>\n",
       "    <tr>\n",
       "      <th>7</th>\n",
       "      <td>20</td>\n",
       "      <td>derived_loan_product_type_Conventional:First Lien</td>\n",
       "      <td>0.026638</td>\n",
       "    </tr>\n",
       "    <tr>\n",
       "      <th>8</th>\n",
       "      <td>56</td>\n",
       "      <td>loan_purpose_31</td>\n",
       "      <td>0.023308</td>\n",
       "    </tr>\n",
       "    <tr>\n",
       "      <th>9</th>\n",
       "      <td>7</td>\n",
       "      <td>loan_term</td>\n",
       "      <td>0.022741</td>\n",
       "    </tr>\n",
       "    <tr>\n",
       "      <th>10</th>\n",
       "      <td>6</td>\n",
       "      <td>origination_charges</td>\n",
       "      <td>0.016988</td>\n",
       "    </tr>\n",
       "    <tr>\n",
       "      <th>11</th>\n",
       "      <td>44</td>\n",
       "      <td>purchaser_type_0</td>\n",
       "      <td>0.015719</td>\n",
       "    </tr>\n",
       "    <tr>\n",
       "      <th>12</th>\n",
       "      <td>45</td>\n",
       "      <td>purchaser_type_1</td>\n",
       "      <td>0.014947</td>\n",
       "    </tr>\n",
       "    <tr>\n",
       "      <th>13</th>\n",
       "      <td>21</td>\n",
       "      <td>derived_loan_product_type_Conventional:Subordi...</td>\n",
       "      <td>0.014490</td>\n",
       "    </tr>\n",
       "    <tr>\n",
       "      <th>14</th>\n",
       "      <td>12</td>\n",
       "      <td>ffiec_msa_md_median_family_income</td>\n",
       "      <td>0.014411</td>\n",
       "    </tr>\n",
       "    <tr>\n",
       "      <th>15</th>\n",
       "      <td>5</td>\n",
       "      <td>total_loan_costs</td>\n",
       "      <td>0.014284</td>\n",
       "    </tr>\n",
       "    <tr>\n",
       "      <th>16</th>\n",
       "      <td>9</td>\n",
       "      <td>income</td>\n",
       "      <td>0.014089</td>\n",
       "    </tr>\n",
       "    <tr>\n",
       "      <th>17</th>\n",
       "      <td>26</td>\n",
       "      <td>derived_loan_product_type_VA:First Lien</td>\n",
       "      <td>0.011111</td>\n",
       "    </tr>\n",
       "    <tr>\n",
       "      <th>18</th>\n",
       "      <td>13</td>\n",
       "      <td>tract_to_msa_income_percentage</td>\n",
       "      <td>0.007920</td>\n",
       "    </tr>\n",
       "    <tr>\n",
       "      <th>19</th>\n",
       "      <td>11</td>\n",
       "      <td>tract_minority_population_percent</td>\n",
       "      <td>0.007232</td>\n",
       "    </tr>\n",
       "  </tbody>\n",
       "</table>\n",
       "</div>"
      ],
      "text/plain": [
       "    index                                            feature  importance\n",
       "0       4                                      interest_rate    0.350245\n",
       "1       2                                loan_to_value_ratio    0.102818\n",
       "2       3                               debt_to_income_ratio    0.084491\n",
       "3      57                                    loan_purpose_32    0.063476\n",
       "4       8                                     property_value    0.045398\n",
       "5       1                                        loan_amount    0.031217\n",
       "6      55                                     loan_purpose_1    0.027041\n",
       "7      20  derived_loan_product_type_Conventional:First Lien    0.026638\n",
       "8      56                                    loan_purpose_31    0.023308\n",
       "9       7                                          loan_term    0.022741\n",
       "10      6                                origination_charges    0.016988\n",
       "11     44                                   purchaser_type_0    0.015719\n",
       "12     45                                   purchaser_type_1    0.014947\n",
       "13     21  derived_loan_product_type_Conventional:Subordi...    0.014490\n",
       "14     12                  ffiec_msa_md_median_family_income    0.014411\n",
       "15      5                                   total_loan_costs    0.014284\n",
       "16      9                                             income    0.014089\n",
       "17     26            derived_loan_product_type_VA:First Lien    0.011111\n",
       "18     13                     tract_to_msa_income_percentage    0.007920\n",
       "19     11                  tract_minority_population_percent    0.007232"
      ]
     },
     "execution_count": 15,
     "metadata": {},
     "output_type": "execute_result"
    }
   ],
   "source": [
    "fi = pd.DataFrame({'feature': X_t.columns, 'importance': rf.feature_importances_}).sort_values(by='importance', ascending=False)\n",
    "fi = fi.reset_index()\n",
    "fi.head(20)"
   ]
  },
  {
   "cell_type": "code",
   "execution_count": 16,
   "id": "0a2c723f",
   "metadata": {},
   "outputs": [
    {
     "data": {
      "image/png": "[encoded data removed]",
      "text/plain": [
       "<Figure size 432x288 with 1 Axes>"
      ]
     },
     "metadata": {
      "needs_background": "light"
     },
     "output_type": "display_data"
    }
   ],
   "source": [
    "# Calculate feature importances using MDI\n",
    "importances = rf.feature_importances_\n",
    "std = np.std([tree.feature_importances_ for tree in rf.estimators_], axis=0)\n",
    "indices = np.argsort(importances)[::-1]\n",
    "\n",
    "feature_names = X_t.columns\n",
    "\n",
    "# Plot top 10 feature importances\n",
    "top_k = 7\n",
    "plt.figure()\n",
    "plt.title(\"Top {} Feature Importances - Mean Decrease Impurity\".format(top_k))\n",
    "plt.bar(range(top_k), importances[indices][:top_k], yerr=std[indices][:top_k], align=\"center\")\n",
    "plt.xticks(range(top_k), np.array(feature_names)[indices][:top_k], fontsize=8, rotation='vertical')\n",
    "plt.xlim([-1, top_k])\n",
    "plt.xlabel(\"Feature Name\")\n",
    "plt.ylabel(\"Importance Score\")\n",
    "plt.show()"
   ]
  },
  {
   "cell_type": "code",
   "execution_count": null,
   "id": "21162982",
   "metadata": {},
   "outputs": [],
   "source": []
  },
  {
   "cell_type": "code",
   "execution_count": 8,
   "id": "b8e91a3c",
   "metadata": {},
   "outputs": [
    {
     "name": "stderr",
     "output_type": "stream",
     "text": [
      "C:\\Users\\yekaa\\anaconda3.0\\lib\\site-packages\\sklearn\\linear_model\\_sag.py:328: ConvergenceWarning: The max_iter was reached which means the coef_ did not converge\n",
      "  warnings.warn(\"The max_iter was reached which means \"\n"
     ]
    },
    {
     "data": {
      "text/plain": [
       "LogisticRegression(C=0.29, solver='sag')"
      ]
     },
     "execution_count": 8,
     "metadata": {},
     "output_type": "execute_result"
    }
   ],
   "source": [
    "#train logistic regression\n",
    "from sklearn.linear_model import LogisticRegression\n",
    "lr = LogisticRegression(C =0.29, penalty = 'l2', solver = 'sag')\n",
    "lr.fit(X_train, y_train)"
   ]
  },
  {
   "cell_type": "code",
   "execution_count": 9,
   "id": "529a7f00",
   "metadata": {},
   "outputs": [
    {
     "name": "stdout",
     "output_type": "stream",
     "text": [
      "Train Accuracy Score 0.9921579434101503\n",
      "Test Accuracy Score 0.9843326811549405\n"
     ]
    }
   ],
   "source": [
    "train_score_lr = lr.score(X_train, y_train)\n",
    "test_score_lr = lr.score(X_test, y_test)\n",
    "print('Train Accuracy Score', train_score_lr)\n",
    "print('Test Accuracy Score', test_score_lr)"
   ]
  },
  {
   "cell_type": "code",
   "execution_count": 10,
   "id": "9a85164d",
   "metadata": {},
   "outputs": [
    {
     "data": {
      "text/html": [
       "<div>\n",
       "<style scoped>\n",
       "    .dataframe tbody tr th:only-of-type {\n",
       "        vertical-align: middle;\n",
       "    }\n",
       "\n",
       "    .dataframe tbody tr th {\n",
       "        vertical-align: top;\n",
       "    }\n",
       "\n",
       "    .dataframe thead th {\n",
       "        text-align: right;\n",
       "    }\n",
       "</style>\n",
       "<table border=\"1\" class=\"dataframe\">\n",
       "  <thead>\n",
       "    <tr style=\"text-align: right;\">\n",
       "      <th></th>\n",
       "      <th>0</th>\n",
       "      <th>1</th>\n",
       "    </tr>\n",
       "  </thead>\n",
       "  <tbody>\n",
       "    <tr>\n",
       "      <th>0</th>\n",
       "      <td>1.000000</td>\n",
       "      <td>1.079013e-07</td>\n",
       "    </tr>\n",
       "    <tr>\n",
       "      <th>1</th>\n",
       "      <td>0.999999</td>\n",
       "      <td>6.344891e-07</td>\n",
       "    </tr>\n",
       "    <tr>\n",
       "      <th>2</th>\n",
       "      <td>0.999995</td>\n",
       "      <td>5.053664e-06</td>\n",
       "    </tr>\n",
       "    <tr>\n",
       "      <th>3</th>\n",
       "      <td>0.999999</td>\n",
       "      <td>8.314742e-07</td>\n",
       "    </tr>\n",
       "    <tr>\n",
       "      <th>4</th>\n",
       "      <td>0.994544</td>\n",
       "      <td>5.456333e-03</td>\n",
       "    </tr>\n",
       "  </tbody>\n",
       "</table>\n",
       "</div>"
      ],
      "text/plain": [
       "          0             1\n",
       "0  1.000000  1.079013e-07\n",
       "1  0.999999  6.344891e-07\n",
       "2  0.999995  5.053664e-06\n",
       "3  0.999999  8.314742e-07\n",
       "4  0.994544  5.456333e-03"
      ]
     },
     "execution_count": 10,
     "metadata": {},
     "output_type": "execute_result"
    }
   ],
   "source": [
    "prob_lr = lr.predict_proba(X_test)\n",
    "df_prob_lr = pd.DataFrame(prob_lr)\n",
    "df_prob_lr.head()"
   ]
  },
  {
   "cell_type": "code",
   "execution_count": 11,
   "id": "249d4ac5",
   "metadata": {},
   "outputs": [
    {
     "data": {
      "text/html": [
       "<div>\n",
       "<style scoped>\n",
       "    .dataframe tbody tr th:only-of-type {\n",
       "        vertical-align: middle;\n",
       "    }\n",
       "\n",
       "    .dataframe tbody tr th {\n",
       "        vertical-align: top;\n",
       "    }\n",
       "\n",
       "    .dataframe thead th {\n",
       "        text-align: right;\n",
       "    }\n",
       "</style>\n",
       "<table border=\"1\" class=\"dataframe\">\n",
       "  <thead>\n",
       "    <tr style=\"text-align: right;\">\n",
       "      <th></th>\n",
       "      <th>0</th>\n",
       "    </tr>\n",
       "  </thead>\n",
       "  <tbody>\n",
       "    <tr>\n",
       "      <th>0</th>\n",
       "      <td>0</td>\n",
       "    </tr>\n",
       "    <tr>\n",
       "      <th>1</th>\n",
       "      <td>0</td>\n",
       "    </tr>\n",
       "    <tr>\n",
       "      <th>2</th>\n",
       "      <td>0</td>\n",
       "    </tr>\n",
       "    <tr>\n",
       "      <th>3</th>\n",
       "      <td>0</td>\n",
       "    </tr>\n",
       "    <tr>\n",
       "      <th>4</th>\n",
       "      <td>0</td>\n",
       "    </tr>\n",
       "  </tbody>\n",
       "</table>\n",
       "</div>"
      ],
      "text/plain": [
       "   0\n",
       "0  0\n",
       "1  0\n",
       "2  0\n",
       "3  0\n",
       "4  0"
      ]
     },
     "execution_count": 11,
     "metadata": {},
     "output_type": "execute_result"
    }
   ],
   "source": [
    "pred_lr = lr.predict(X_test)\n",
    "df_pred_lr = pd.DataFrame(pred_lr)\n",
    "df_pred_lr.head()"
   ]
  },
  {
   "cell_type": "code",
   "execution_count": 12,
   "id": "78f3ac85",
   "metadata": {},
   "outputs": [
    {
     "data": {
      "text/plain": [
       "<AxesSubplot:>"
      ]
     },
     "execution_count": 12,
     "metadata": {},
     "output_type": "execute_result"
    },
    {
     "data": {
      "image/png": "[encoded data removed]",
      "text/plain": [
       "<Figure size 432x288 with 2 Axes>"
      ]
     },
     "metadata": {
      "needs_background": "light"
     },
     "output_type": "display_data"
    }
   ],
   "source": [
    "from sklearn.metrics import confusion_matrix\n",
    "import seaborn as sns\n",
    "cf_matrix_lr = confusion_matrix(y_test, pred_lr)\n",
    "sns.heatmap(cf_matrix_lr,annot=True)"
   ]
  },
  {
   "cell_type": "code",
   "execution_count": 13,
   "id": "3a098f1d",
   "metadata": {},
   "outputs": [
    {
     "name": "stdout",
     "output_type": "stream",
     "text": [
      "              precision    recall  f1-score   support\n",
      "\n",
      "           0       1.00      0.98      0.99    596356\n",
      "           1       0.19      1.00      0.31      2151\n",
      "\n",
      "    accuracy                           0.98    598507\n",
      "   macro avg       0.59      0.99      0.65    598507\n",
      "weighted avg       1.00      0.98      0.99    598507\n",
      "\n"
     ]
    }
   ],
   "source": [
    "from sklearn.metrics import classification_report\n",
    "print(classification_report(y_test, pred_lr))"
   ]
  },
  {
   "cell_type": "code",
   "execution_count": 14,
   "id": "e2759be2",
   "metadata": {},
   "outputs": [
    {
     "data": {
      "image/png": "[encoded data removed]",
      "text/plain": [
       "<Figure size 432x288 with 1 Axes>"
      ]
     },
     "metadata": {
      "needs_background": "light"
     },
     "output_type": "display_data"
    }
   ],
   "source": [
    "from sklearn.metrics import roc_auc_score\n",
    "from sklearn.metrics import roc_curve\n",
    "logit_roc_auc = roc_auc_score(y_test, prob_lr[:,1])\n",
    "fpr, tpr, thresholds = roc_curve(y_test, prob_lr[:,1])\n",
    "plt.figure()\n",
    "plt.plot(fpr, tpr, label='Logistic Regression (area = %0.2f)' % logit_roc_auc)\n",
    "plt.plot([0, 1], [0, 1],'r--')\n",
    "plt.xlim([0.0, 1.0])\n",
    "plt.ylim([0.0, 1.05])\n",
    "plt.xlabel('False Positive Rate')\n",
    "plt.ylabel('True Positive Rate')\n",
    "plt.title('Receiver operating characteristic')\n",
    "plt.legend(loc=\"lower right\")\n",
    "plt.savefig('Log_ROC')\n",
    "plt.show()"
   ]
  },
  {
   "cell_type": "code",
   "execution_count": 17,
   "id": "b6769391",
   "metadata": {},
   "outputs": [
    {
     "data": {
      "text/html": [
       "<div>\n",
       "<style scoped>\n",
       "    .dataframe tbody tr th:only-of-type {\n",
       "        vertical-align: middle;\n",
       "    }\n",
       "\n",
       "    .dataframe tbody tr th {\n",
       "        vertical-align: top;\n",
       "    }\n",
       "\n",
       "    .dataframe thead th {\n",
       "        text-align: right;\n",
       "    }\n",
       "</style>\n",
       "<table border=\"1\" class=\"dataframe\">\n",
       "  <thead>\n",
       "    <tr style=\"text-align: right;\">\n",
       "      <th></th>\n",
       "      <th>Variables</th>\n",
       "      <th>Coefficients</th>\n",
       "      <th>Odds Ratio</th>\n",
       "    </tr>\n",
       "  </thead>\n",
       "  <tbody>\n",
       "    <tr>\n",
       "      <th>0</th>\n",
       "      <td>agg_ff</td>\n",
       "      <td>-0.021538</td>\n",
       "      <td>0.978692</td>\n",
       "    </tr>\n",
       "    <tr>\n",
       "      <th>1</th>\n",
       "      <td>loan_amount</td>\n",
       "      <td>-1.133534</td>\n",
       "      <td>0.321894</td>\n",
       "    </tr>\n",
       "    <tr>\n",
       "      <th>2</th>\n",
       "      <td>loan_to_value_ratio</td>\n",
       "      <td>2.346485</td>\n",
       "      <td>10.448775</td>\n",
       "    </tr>\n",
       "    <tr>\n",
       "      <th>3</th>\n",
       "      <td>debt_to_income_ratio</td>\n",
       "      <td>2.126494</td>\n",
       "      <td>8.385415</td>\n",
       "    </tr>\n",
       "    <tr>\n",
       "      <th>4</th>\n",
       "      <td>interest_rate</td>\n",
       "      <td>5.327223</td>\n",
       "      <td>205.865480</td>\n",
       "    </tr>\n",
       "    <tr>\n",
       "      <th>...</th>\n",
       "      <td>...</td>\n",
       "      <td>...</td>\n",
       "      <td>...</td>\n",
       "    </tr>\n",
       "    <tr>\n",
       "      <th>84</th>\n",
       "      <td>applicant_age_&lt;25</td>\n",
       "      <td>-0.000995</td>\n",
       "      <td>0.999005</td>\n",
       "    </tr>\n",
       "    <tr>\n",
       "      <th>85</th>\n",
       "      <td>applicant_age_&gt;74</td>\n",
       "      <td>-0.012638</td>\n",
       "      <td>0.987442</td>\n",
       "    </tr>\n",
       "    <tr>\n",
       "      <th>86</th>\n",
       "      <td>loan_purpose_other</td>\n",
       "      <td>-1.326777</td>\n",
       "      <td>0.265331</td>\n",
       "    </tr>\n",
       "    <tr>\n",
       "      <th>87</th>\n",
       "      <td>FICO</td>\n",
       "      <td>0.000000</td>\n",
       "      <td>1.000000</td>\n",
       "    </tr>\n",
       "    <tr>\n",
       "      <th>88</th>\n",
       "      <td>Constant</td>\n",
       "      <td>-2.004121</td>\n",
       "      <td>0.134779</td>\n",
       "    </tr>\n",
       "  </tbody>\n",
       "</table>\n",
       "<p>89 rows × 3 columns</p>\n",
       "</div>"
      ],
      "text/plain": [
       "               Variables  Coefficients  Odds Ratio\n",
       "0                 agg_ff     -0.021538    0.978692\n",
       "1            loan_amount     -1.133534    0.321894\n",
       "2    loan_to_value_ratio      2.346485   10.448775\n",
       "3   debt_to_income_ratio      2.126494    8.385415\n",
       "4          interest_rate      5.327223  205.865480\n",
       "..                   ...           ...         ...\n",
       "84     applicant_age_<25     -0.000995    0.999005\n",
       "85     applicant_age_>74     -0.012638    0.987442\n",
       "86    loan_purpose_other     -1.326777    0.265331\n",
       "87                  FICO      0.000000    1.000000\n",
       "88              Constant     -2.004121    0.134779\n",
       "\n",
       "[89 rows x 3 columns]"
      ]
     },
     "execution_count": 17,
     "metadata": {},
     "output_type": "execute_result"
    }
   ],
   "source": [
    "import math\n",
    "coef = lr.coef_\n",
    "coef_var = []\n",
    "coef_exp = []\n",
    "\n",
    "for x in coef:\n",
    "  for c in x:\n",
    "    coef_var.append(c)\n",
    "    exp = math.exp(c)\n",
    "    coef_exp.append(exp)\n",
    "variables = X_t.columns\n",
    "coef = list(zip(variables, coef_var, coef_exp))\n",
    "coef_df = pd.DataFrame(coef, columns=['Variables','Coefficients','Odds Ratio'])\n",
    "\n",
    "inter = lr.intercept_[0]\n",
    "inter_exp = math.exp(inter)\n",
    "const = 'Constant'\n",
    "\n",
    "l = [const, inter, inter_exp]\n",
    "coef_df.loc[len(coef_df)] = l\n",
    "coef_df"
   ]
  },
  {
   "cell_type": "code",
   "execution_count": 29,
   "id": "94bfc446",
   "metadata": {},
   "outputs": [
    {
     "data": {
      "text/html": [
       "<div>\n",
       "<style scoped>\n",
       "    .dataframe tbody tr th:only-of-type {\n",
       "        vertical-align: middle;\n",
       "    }\n",
       "\n",
       "    .dataframe tbody tr th {\n",
       "        vertical-align: top;\n",
       "    }\n",
       "\n",
       "    .dataframe thead th {\n",
       "        text-align: right;\n",
       "    }\n",
       "</style>\n",
       "<table border=\"1\" class=\"dataframe\">\n",
       "  <thead>\n",
       "    <tr style=\"text-align: right;\">\n",
       "      <th></th>\n",
       "      <th>Variables</th>\n",
       "      <th>Coefficients</th>\n",
       "      <th>Odds Ratio</th>\n",
       "    </tr>\n",
       "  </thead>\n",
       "  <tbody>\n",
       "    <tr>\n",
       "      <th>4</th>\n",
       "      <td>interest_rate</td>\n",
       "      <td>5.327223</td>\n",
       "      <td>205.865480</td>\n",
       "    </tr>\n",
       "    <tr>\n",
       "      <th>2</th>\n",
       "      <td>loan_to_value_ratio</td>\n",
       "      <td>2.346485</td>\n",
       "      <td>10.448775</td>\n",
       "    </tr>\n",
       "    <tr>\n",
       "      <th>3</th>\n",
       "      <td>debt_to_income_ratio</td>\n",
       "      <td>2.126494</td>\n",
       "      <td>8.385415</td>\n",
       "    </tr>\n",
       "    <tr>\n",
       "      <th>7</th>\n",
       "      <td>loan_term</td>\n",
       "      <td>1.824797</td>\n",
       "      <td>6.201537</td>\n",
       "    </tr>\n",
       "    <tr>\n",
       "      <th>57</th>\n",
       "      <td>loan_purpose_32</td>\n",
       "      <td>1.604511</td>\n",
       "      <td>4.975428</td>\n",
       "    </tr>\n",
       "    <tr>\n",
       "      <th>21</th>\n",
       "      <td>derived_loan_product_type_Conventional:Subordi...</td>\n",
       "      <td>0.269493</td>\n",
       "      <td>1.309300</td>\n",
       "    </tr>\n",
       "    <tr>\n",
       "      <th>67</th>\n",
       "      <td>hoepa_status_1</td>\n",
       "      <td>0.182773</td>\n",
       "      <td>1.200542</td>\n",
       "    </tr>\n",
       "    <tr>\n",
       "      <th>44</th>\n",
       "      <td>purchaser_type_0</td>\n",
       "      <td>0.152168</td>\n",
       "      <td>1.164356</td>\n",
       "    </tr>\n",
       "    <tr>\n",
       "      <th>6</th>\n",
       "      <td>origination_charges</td>\n",
       "      <td>0.151552</td>\n",
       "      <td>1.163639</td>\n",
       "    </tr>\n",
       "    <tr>\n",
       "      <th>26</th>\n",
       "      <td>derived_loan_product_type_VA:First Lien</td>\n",
       "      <td>0.132883</td>\n",
       "      <td>1.142116</td>\n",
       "    </tr>\n",
       "    <tr>\n",
       "      <th>49</th>\n",
       "      <td>purchaser_type_5</td>\n",
       "      <td>0.131517</td>\n",
       "      <td>1.140557</td>\n",
       "    </tr>\n",
       "    <tr>\n",
       "      <th>16</th>\n",
       "      <td>tract_median_age_of_housing_units</td>\n",
       "      <td>0.083146</td>\n",
       "      <td>1.086700</td>\n",
       "    </tr>\n",
       "    <tr>\n",
       "      <th>73</th>\n",
       "      <td>interest_only_payment_1</td>\n",
       "      <td>0.060090</td>\n",
       "      <td>1.061932</td>\n",
       "    </tr>\n",
       "    <tr>\n",
       "      <th>14</th>\n",
       "      <td>tract_owner_occupied_units</td>\n",
       "      <td>0.060046</td>\n",
       "      <td>1.061885</td>\n",
       "    </tr>\n",
       "    <tr>\n",
       "      <th>30</th>\n",
       "      <td>derived_dwelling_category_Single Family (1-4 U...</td>\n",
       "      <td>0.033838</td>\n",
       "      <td>1.034418</td>\n",
       "    </tr>\n",
       "    <tr>\n",
       "      <th>52</th>\n",
       "      <td>purchaser_type_9</td>\n",
       "      <td>0.031627</td>\n",
       "      <td>1.032132</td>\n",
       "    </tr>\n",
       "    <tr>\n",
       "      <th>46</th>\n",
       "      <td>purchaser_type_2</td>\n",
       "      <td>0.027173</td>\n",
       "      <td>1.027546</td>\n",
       "    </tr>\n",
       "    <tr>\n",
       "      <th>37</th>\n",
       "      <td>derived_race_Black or African American</td>\n",
       "      <td>0.025163</td>\n",
       "      <td>1.025482</td>\n",
       "    </tr>\n",
       "    <tr>\n",
       "      <th>42</th>\n",
       "      <td>derived_sex_Joint</td>\n",
       "      <td>0.024230</td>\n",
       "      <td>1.024526</td>\n",
       "    </tr>\n",
       "    <tr>\n",
       "      <th>81</th>\n",
       "      <td>applicant_age_45-54</td>\n",
       "      <td>0.023350</td>\n",
       "      <td>1.023624</td>\n",
       "    </tr>\n",
       "  </tbody>\n",
       "</table>\n",
       "</div>"
      ],
      "text/plain": [
       "                                            Variables  Coefficients  \\\n",
       "4                                       interest_rate      5.327223   \n",
       "2                                 loan_to_value_ratio      2.346485   \n",
       "3                                debt_to_income_ratio      2.126494   \n",
       "7                                           loan_term      1.824797   \n",
       "57                                    loan_purpose_32      1.604511   \n",
       "21  derived_loan_product_type_Conventional:Subordi...      0.269493   \n",
       "67                                     hoepa_status_1      0.182773   \n",
       "44                                   purchaser_type_0      0.152168   \n",
       "6                                 origination_charges      0.151552   \n",
       "26            derived_loan_product_type_VA:First Lien      0.132883   \n",
       "49                                   purchaser_type_5      0.131517   \n",
       "16                  tract_median_age_of_housing_units      0.083146   \n",
       "73                            interest_only_payment_1      0.060090   \n",
       "14                         tract_owner_occupied_units      0.060046   \n",
       "30  derived_dwelling_category_Single Family (1-4 U...      0.033838   \n",
       "52                                   purchaser_type_9      0.031627   \n",
       "46                                   purchaser_type_2      0.027173   \n",
       "37             derived_race_Black or African American      0.025163   \n",
       "42                                  derived_sex_Joint      0.024230   \n",
       "81                                applicant_age_45-54      0.023350   \n",
       "\n",
       "    Odds Ratio  \n",
       "4   205.865480  \n",
       "2    10.448775  \n",
       "3     8.385415  \n",
       "7     6.201537  \n",
       "57    4.975428  \n",
       "21    1.309300  \n",
       "67    1.200542  \n",
       "44    1.164356  \n",
       "6     1.163639  \n",
       "26    1.142116  \n",
       "49    1.140557  \n",
       "16    1.086700  \n",
       "73    1.061932  \n",
       "14    1.061885  \n",
       "30    1.034418  \n",
       "52    1.032132  \n",
       "46    1.027546  \n",
       "37    1.025482  \n",
       "42    1.024526  \n",
       "81    1.023624  "
      ]
     },
     "execution_count": 29,
     "metadata": {},
     "output_type": "execute_result"
    }
   ],
   "source": [
    "c_df = coef_df.sort_values(by=\"Coefficients\", ascending=False)\n",
    "c_df.head(20)"
   ]
  },
  {
   "cell_type": "code",
   "execution_count": 24,
   "id": "1c506a87",
   "metadata": {},
   "outputs": [
    {
     "data": {
      "text/html": [
       "<div>\n",
       "<style scoped>\n",
       "    .dataframe tbody tr th:only-of-type {\n",
       "        vertical-align: middle;\n",
       "    }\n",
       "\n",
       "    .dataframe tbody tr th {\n",
       "        vertical-align: top;\n",
       "    }\n",
       "\n",
       "    .dataframe thead th {\n",
       "        text-align: right;\n",
       "    }\n",
       "</style>\n",
       "<table border=\"1\" class=\"dataframe\">\n",
       "  <thead>\n",
       "    <tr style=\"text-align: right;\">\n",
       "      <th></th>\n",
       "      <th>Feature</th>\n",
       "      <th>Importance</th>\n",
       "    </tr>\n",
       "  </thead>\n",
       "  <tbody>\n",
       "    <tr>\n",
       "      <th>4</th>\n",
       "      <td>interest_rate</td>\n",
       "      <td>5.327223</td>\n",
       "    </tr>\n",
       "    <tr>\n",
       "      <th>2</th>\n",
       "      <td>loan_to_value_ratio</td>\n",
       "      <td>2.346485</td>\n",
       "    </tr>\n",
       "    <tr>\n",
       "      <th>3</th>\n",
       "      <td>debt_to_income_ratio</td>\n",
       "      <td>2.126494</td>\n",
       "    </tr>\n",
       "    <tr>\n",
       "      <th>7</th>\n",
       "      <td>loan_term</td>\n",
       "      <td>1.824797</td>\n",
       "    </tr>\n",
       "    <tr>\n",
       "      <th>57</th>\n",
       "      <td>loan_purpose_32</td>\n",
       "      <td>1.604511</td>\n",
       "    </tr>\n",
       "    <tr>\n",
       "      <th>21</th>\n",
       "      <td>derived_loan_product_type_Conventional:Subordi...</td>\n",
       "      <td>0.269493</td>\n",
       "    </tr>\n",
       "    <tr>\n",
       "      <th>67</th>\n",
       "      <td>hoepa_status_1</td>\n",
       "      <td>0.182773</td>\n",
       "    </tr>\n",
       "    <tr>\n",
       "      <th>44</th>\n",
       "      <td>purchaser_type_0</td>\n",
       "      <td>0.152168</td>\n",
       "    </tr>\n",
       "    <tr>\n",
       "      <th>6</th>\n",
       "      <td>origination_charges</td>\n",
       "      <td>0.151552</td>\n",
       "    </tr>\n",
       "    <tr>\n",
       "      <th>26</th>\n",
       "      <td>derived_loan_product_type_VA:First Lien</td>\n",
       "      <td>0.132883</td>\n",
       "    </tr>\n",
       "  </tbody>\n",
       "</table>\n",
       "</div>"
      ],
      "text/plain": [
       "                                              Feature  Importance\n",
       "4                                       interest_rate    5.327223\n",
       "2                                 loan_to_value_ratio    2.346485\n",
       "3                                debt_to_income_ratio    2.126494\n",
       "7                                           loan_term    1.824797\n",
       "57                                    loan_purpose_32    1.604511\n",
       "21  derived_loan_product_type_Conventional:Subordi...    0.269493\n",
       "67                                     hoepa_status_1    0.182773\n",
       "44                                   purchaser_type_0    0.152168\n",
       "6                                 origination_charges    0.151552\n",
       "26            derived_loan_product_type_VA:First Lien    0.132883"
      ]
     },
     "execution_count": 24,
     "metadata": {},
     "output_type": "execute_result"
    }
   ],
   "source": [
    "# Create a DataFrame to store the feature importances\n",
    "importance_df = pd.DataFrame({\"Feature\": X_t.columns, \"Importance\": lr.coef_[0]})\n",
    "\n",
    "# Sort the DataFrame by importance values in descending order\n",
    "importance_df = importance_df.sort_values(by=\"Importance\", ascending=False)\n",
    "\n",
    "importance_10 = importance_df.head(10)\n",
    "importance_10"
   ]
  },
  {
   "cell_type": "code",
   "execution_count": 26,
   "id": "fa540f78",
   "metadata": {},
   "outputs": [
    {
     "data": {
      "image/png": "[encoded data removed]",
      "text/plain": [
       "<Figure size 432x288 with 1 Axes>"
      ]
     },
     "metadata": {
      "needs_background": "light"
     },
     "output_type": "display_data"
    }
   ],
   "source": [
    "# Create scatter plot with hue\n",
    "ax = sns.barplot(x=\"Importance\", y=\"Feature\", data=importance_10)\n",
    "# Move the legend to the right side\n",
    "# Show plot\n",
    "plt.show()"
   ]
  },
  {
   "cell_type": "code",
   "execution_count": 27,
   "id": "9e960ff8",
   "metadata": {},
   "outputs": [
    {
     "data": {
      "image/png": "[encoded data removed]",
      "text/plain": [
       "<Figure size 432x288 with 1 Axes>"
      ]
     },
     "metadata": {
      "needs_background": "light"
     },
     "output_type": "display_data"
    }
   ],
   "source": [
    "# Create scatter plot with hue\n",
    "ax = sns.barplot(x=\"Feature\", y=\"Importance\", data=importance_10)\n",
    "# Move the legend to the right side\n",
    "# Show plot\n",
    "plt.show()"
   ]
  }
 ],
 "metadata": {
  "kernelspec": {
   "display_name": "Python 3",
   "language": "python",
   "name": "python3"
  },
  "language_info": {
   "codemirror_mode": {
    "name": "ipython",
    "version": 3
   },
   "file_extension": ".py",
   "mimetype": "text/x-python",
   "name": "python",
   "nbconvert_exporter": "python",
   "pygments_lexer": "ipython3",
   "version": "3.8.8"
  },
  "varInspector": {
   "cols": {
    "lenName": 16,
    "lenType": 16,
    "lenVar": 40
   },
   "kernels_config": {
    "python": {
     "delete_cmd_postfix": "",
     "delete_cmd_prefix": "del ",
     "library": "var_list.py",
     "varRefreshCmd": "print(var_dic_list())"
    },
    "r": {
     "delete_cmd_postfix": ") ",
     "delete_cmd_prefix": "rm(",
     "library": "var_list.r",
     "varRefreshCmd": "cat(var_dic_list()) "
    }
   },
   "types_to_exclude": [
    "module",
    "function",
    "builtin_function_or_method",
    "instance",
    "_Feature"
   ],
   "window_display": false
  }
 },
 "nbformat": 4,
 "nbformat_minor": 5
}
